{
 "cells": [
  {
   "cell_type": "code",
   "execution_count": 3,
   "source": [
    "import pandas as pd\r\n",
    "from prophet import Prophet\r\n",
    "import ray\r\n",
    "import time"
   ],
   "outputs": [
    {
     "output_type": "stream",
     "name": "stdout",
     "text": [
      "time: 436 µs (started: 2021-09-23 02:41:55 -07:00)\n"
     ]
    }
   ],
   "metadata": {}
  },
  {
   "cell_type": "code",
   "execution_count": 4,
   "source": [
    "%load_ext autotime"
   ],
   "outputs": [
    {
     "output_type": "stream",
     "name": "stdout",
     "text": [
      "The autotime extension is already loaded. To reload it, use:\n",
      "  %reload_ext autotime\n",
      "time: 774 µs (started: 2021-09-23 02:42:00 -07:00)\n"
     ]
    }
   ],
   "metadata": {}
  },
  {
   "cell_type": "code",
   "execution_count": 5,
   "source": [
    "df = pd.read_csv('https://media.githubusercontent.com/media/nishuvr/Dataset/master/test.csv')\r\n",
    "items=df['sku'].unique()\r\n",
    "stores=df['store'].unique()\r\n",
    "df=df.drop(columns=['causal1', 'causal2','price','price.1','temp','return_qty'])\r\n",
    "df = df.rename(columns={\"date\":\"ds\",\"demand\":\"y\"})"
   ],
   "outputs": [
    {
     "output_type": "stream",
     "name": "stdout",
     "text": [
      "time: 13.5 s (started: 2021-09-23 02:42:06 -07:00)\n"
     ]
    }
   ],
   "metadata": {}
  },
  {
   "cell_type": "code",
   "execution_count": 6,
   "source": [
    "groups = df.groupby(['store','sku'])\r\n",
    "keys = []\r\n",
    "data = []\r\n",
    "for key,item in groups:\r\n",
    "    keys.append(key)\r\n",
    "    data.append(item)"
   ],
   "outputs": [
    {
     "output_type": "stream",
     "name": "stdout",
     "text": [
      "time: 1.47 s (started: 2021-09-23 02:43:01 -07:00)\n"
     ]
    }
   ],
   "metadata": {}
  },
  {
   "cell_type": "code",
   "execution_count": null,
   "source": [
    "import ray\r\n",
    "import time\r\n",
    "import logging\r\n",
    "from prophet import Prophet\r\n",
    "import os\r\n",
    "ray.init()\r\n",
    "\r\n",
    "logging.getLogger('prophet').setLevel(logging.WARNING)\r\n",
    "class suppress_stdout_stderr(object):\r\n",
    "    def __init__(self):\r\n",
    "        # Open a pair of null files\r\n",
    "        self.null_fds = [os.open(os.devnull, os.O_RDWR) for x in range(2)]\r\n",
    "        # Save the actual stdout (1) and stderr (2) file descriptors.\r\n",
    "        self.save_fds = (os.dup(1), os.dup(2))\r\n",
    "\r\n",
    "    def __enter__(self):\r\n",
    "        # Assign the null pointers to stdout and stderr.\r\n",
    "        os.dup2(self.null_fds[0], 1)\r\n",
    "        os.dup2(self.null_fds[1], 2)\r\n",
    "\r\n",
    "    def __exit__(self, *_):\r\n",
    "        # Re-assign the real stdout/stderr back to (1) and (2)\r\n",
    "        os.dup2(self.save_fds[0], 1)\r\n",
    "        os.dup2(self.save_fds[1], 2)\r\n",
    "        # Close the null files\r\n",
    "        os.close(self.null_fds[0])\r\n",
    "        os.close(self.null_fds[1])\r\n",
    "        \r\n",
    "@ray.remote\r\n",
    "def fit_model(comb):\r\n",
    "  with suppress_stdout_stderr():\r\n",
    "     model = Prophet()\r\n",
    "     model.fit(comb)\r\n",
    "  future = model.make_future_dataframe(periods=28)\r\n",
    "  forecast = model.predict(future)\r\n",
    "  return model,forecast\r\n",
    "\r\n",
    "result=[]\r\n",
    "for i in data:\r\n",
    "    result.append(fit_model.remote(i))\r\n",
    "\r\n",
    "results = ray.get(result)"
   ],
   "outputs": [],
   "metadata": {}
  },
  {
   "cell_type": "code",
   "execution_count": 12,
   "source": [
    "def filter_date(result):\r\n",
    "    start_date = \"2021-04-15\"\r\n",
    "    end_date = \"2021-05-13\"\r\n",
    "    dataframes=[]\r\n",
    "    after_start_date = result[\"ds\"] >= start_date\r\n",
    "    before_end_date = result[\"ds\"] <= end_date\r\n",
    "    between_two_dates = after_start_date & before_end_date\r\n",
    "    filtered_dates = result.loc[between_two_dates]\r\n",
    "    return filtered_dates\r\n",
    "\r\n",
    "dataframes=[]\r\n",
    "for result in results:  \r\n",
    "    filter_data = filter_date(result)\r\n",
    "    dataframes.append(filter_data)\r\n",
    "    \r\n",
    "result = pd.concat(dataframes)\r\n",
    "result.to_csv(\"forecasts.csv\")"
   ],
   "outputs": [
    {
     "output_type": "stream",
     "name": "stdout",
     "text": [
      "time: 6.36 s (started: 2021-09-21 05:01:00 -07:00)\n"
     ]
    }
   ],
   "metadata": {}
  },
  {
   "cell_type": "code",
   "execution_count": null,
   "source": [],
   "outputs": [],
   "metadata": {}
  }
 ],
 "metadata": {
  "kernelspec": {
   "display_name": "Python 3 (ipykernel)",
   "language": "python",
   "name": "python3"
  },
  "language_info": {
   "codemirror_mode": {
    "name": "ipython",
    "version": 3
   },
   "file_extension": ".py",
   "mimetype": "text/x-python",
   "name": "python",
   "nbconvert_exporter": "python",
   "pygments_lexer": "ipython3",
   "version": "3.8.5"
  }
 },
 "nbformat": 4,
 "nbformat_minor": 5
}